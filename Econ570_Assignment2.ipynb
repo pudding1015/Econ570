{
 "cells": [
  {
   "cell_type": "markdown",
   "id": "b3f482b9",
   "metadata": {},
   "source": [
    "### Name：Yanwen Wang \n",
    "\n",
    "### USCID：2233030502"
   ]
  },
  {
   "cell_type": "code",
   "execution_count": 160,
   "id": "a8a82484",
   "metadata": {},
   "outputs": [],
   "source": [
    "import pandas as pd\n",
    "import numpy as np\n",
    "import random\n",
    "import statsmodels.api as sm\n",
    "from tqdm import tqdm\n",
    "import networkx as nx\n",
    "import matplotlib.pyplot as plt\n",
    "random.seed(6)"
   ]
  },
  {
   "cell_type": "code",
   "execution_count": 161,
   "id": "9059853b",
   "metadata": {},
   "outputs": [],
   "source": [
    "def fn_variance(data, ddof=0):\n",
    "    n = len(data)\n",
    "    mean = sum(data) / n\n",
    "    return sum((x - mean) ** 2 for x in data) / (n - ddof)\n",
    "# Note this is equivalent to np.var(Yt,ddof)"
   ]
  },
  {
   "cell_type": "code",
   "execution_count": 162,
   "id": "a677a701",
   "metadata": {},
   "outputs": [],
   "source": [
    "def fn_generate_cov(dim, corr):\n",
    "    acc  = []\n",
    "    for i in range(dim):\n",
    "        row = np.ones((1,dim)) * corr\n",
    "        row[0][i] = 1\n",
    "        acc.append(row)\n",
    "    return np.concatenate(acc,axis=0)\n",
    "\n",
    "def fn_generate_multnorm(nobs,corr,nvar):\n",
    "\n",
    "    mu = np.zeros(nvar)\n",
    "    std = (np.abs(np.random.normal(loc = 1, scale = .5,size = (nvar,1))))**(1/2)\n",
    "    # generate random normal distribution\n",
    "    acc = []\n",
    "    for i in range(nvar):\n",
    "        acc.append(np.reshape(np.random.normal(mu[i],std[i],nobs),(nobs,-1)))\n",
    "    \n",
    "    normvars = np.concatenate(acc,axis=1)\n",
    "\n",
    "    cov = fn_generate_cov(nvar, corr)\n",
    "    C = np.linalg.cholesky(cov)\n",
    "\n",
    "    Y = np.transpose(np.dot(C,np.transpose(normvars)))\n",
    "\n",
    "#     return (Y,np.round(np.corrcoef(Y,rowvar=False),2))\n",
    "    return Y\n",
    "\n",
    "def fn_randomize_treatment(N,p=0.5):\n",
    "    treated = random.sample(range(N), round(N*p))\n",
    "    return np.array([(1 if i in treated else 0) for i in range(N)]).reshape([N,1])\n"
   ]
  },
  {
   "cell_type": "code",
   "execution_count": 163,
   "id": "493bf872",
   "metadata": {},
   "outputs": [],
   "source": [
    "def fn_tauhat_means(Yt,Yc):\n",
    "    nt = len(Yt)\n",
    "    nc = len(Yc)\n",
    "    tauhat = np.mean(Yt)-np.mean(Yc)\n",
    "    se_tauhat = (np.var(Yt,ddof=1)/nt+np.var(Yc,ddof=1)/nc)**(1/2)\n",
    "    return (tauhat,se_tauhat)\n",
    "\n",
    "def fn_bias_rmse_size(theta0,thetahat,se_thetahat,cval = 1.96):\n",
    "    \"\"\"\n",
    "    theta0 - true parameter value\n",
    "    thetatahat - estimated parameter value\n",
    "    se_thetahat - estiamted se of thetahat\n",
    "    \"\"\"\n",
    "    b = thetahat - theta0\n",
    "    bias = np.mean(b)\n",
    "    rmse = np.sqrt(np.mean(b**2))\n",
    "    tval = b/se_thetahat # paramhat/se_paramhat H0: theta = 0\n",
    "    size = np.mean(1*(np.abs(tval)>cval))\n",
    "    # note size calculated at true parameter value\n",
    "    return (bias,rmse,size)"
   ]
  },
  {
   "cell_type": "markdown",
   "id": "88ca9ff1",
   "metadata": {},
   "source": [
    "## 1. Simulate a DGP where the outcome of interest depends on a randomly assigned treatment and some observed covariates.\n",
    "\n",
    "  $Y = \\tau * T + c * Z + d * W + e$\n",
    "  \n",
    "  covariates: $Z,W$\n",
    "  \n",
    "  An example of a real-life situation: I want to know the influence of temperature on precipitation, but variables such as altitude,    longitude and latitude and local humidity will also affect precipitation.\n",
    "  \n",
    "  T - temperature, Z - altitude, W - humidity,  Y - precipitation."
   ]
  },
  {
   "cell_type": "code",
   "execution_count": 164,
   "id": "5f99ba77",
   "metadata": {},
   "outputs": [
    {
     "data": {
      "image/png": "[encoded data removed]",
      "text/plain": [
       "<Figure size 432x288 with 1 Axes>"
      ]
     },
     "metadata": {},
     "output_type": "display_data"
    }
   ],
   "source": [
    "G = nx.DiGraph()\n",
    "    \n",
    "G.add_node('s1', desc='Y')\n",
    "G.add_node('s2', desc='T')\n",
    "G.add_node('s3', desc='Z')\n",
    "G.add_node('s4', desc='W')\n",
    "G.add_edge('s2','s1')\n",
    "G.add_edge('s3','s1')\n",
    "G.add_edge('s4','s1')\n",
    "    \n",
    "pos = nx.spring_layout(G)\n",
    "nx.draw(G, pos)\n",
    "node_labels = nx.get_node_attributes(G, 'desc')\n",
    "nx.draw_networkx_labels(G, pos, labels=node_labels)\n",
    "plt.show()"
   ]
  },
  {
   "cell_type": "code",
   "execution_count": 166,
   "id": "c31b2908",
   "metadata": {},
   "outputs": [],
   "source": [
    "def fn_generate_data(tau,N,p,p0,corr,conf = True,flagX = False):\n",
    "    \"\"\"\n",
    "    p0(int): number of covariates with nonzero coefficients\n",
    "    \"\"\"\n",
    "    nvar = p+2 # 1 confounder and variable for randomizing treatment\n",
    "    corr = 0.5 # correlation for multivariate normal\n",
    "\n",
    "    if conf==False:\n",
    "        conf_mult = 0 # remove confounder from outcome\n",
    "        \n",
    "    allX = fn_generate_multnorm(N,corr,nvar)\n",
    "    W0 = allX[:,0].reshape([N,1]) # variable for RDD assignment\n",
    "    C = allX[:,1].reshape([N,1]) # confounder\n",
    "    X = allX[:,2:] # observed covariates\n",
    "    \n",
    "    T = fn_randomize_treatment(N) # choose treated units\n",
    "    err = np.random.normal(0,1,[N,1])\n",
    "    beta0 = np.random.normal(5,5,[p,1])\n",
    "    \n",
    "    beta0[p0:p] = 0 # sparse model\n",
    "    Yab = tau*T+X@beta0+conf_mult*0.5*C+err\n",
    "    if flagX==False:\n",
    "        return (Yab,T)\n",
    "    else:\n",
    "        return (Yab,T,X)"
   ]
  },
  {
   "cell_type": "code",
   "execution_count": 167,
   "id": "702b6c84",
   "metadata": {},
   "outputs": [],
   "source": [
    "tau = 0.5\n",
    "corr = 0.5\n",
    "conf = False\n",
    "p = 3\n",
    "p0 = 2\n",
    "flagX = 1\n",
    "N = 1000\n",
    "Yab, T, X = fn_generate_data(tau,N,p,p0,corr,conf,flagX)\n",
    "dt1 =  pd.DataFrame(np.concatenate([Yab, T, X],axis=1),columns=['Yab','T','X1','X2','X3'])\n",
    "dt1.to_csv('1.csv')"
   ]
  },
  {
   "cell_type": "code",
   "execution_count": 168,
   "id": "8d38210a",
   "metadata": {},
   "outputs": [
    {
     "name": "stderr",
     "output_type": "stream",
     "text": [
      "100%|████████████████████████████████████████████████████████████████████████████| 1000/1000 [00:00<00:00, 1048.96it/s]\n",
      "100%|██████████████████████████████████████████████████████████████████████████████| 1000/1000 [00:11<00:00, 83.92it/s]\n"
     ]
    }
   ],
   "source": [
    "# Not control covariates\n",
    "estDict = {}\n",
    "R = 1000\n",
    "for N in [100,1000]:\n",
    "    tauhats = []\n",
    "    sehats = []\n",
    "    for r in tqdm(range(R)):\n",
    "        Yab,T,X = fn_generate_data(tau,N,p,p0,corr,conf,flagX)\n",
    "        Yt = Yab[np.where(T==1)[0],:]\n",
    "        Yc = Yab[np.where(T==0)[0],:]\n",
    "        tauhat,se_tauhat = fn_tauhat_means(Yt,Yc)\n",
    "        tauhats = tauhats + [tauhat]\n",
    "        sehats = sehats + [se_tauhat]\n",
    "        \n",
    "    estDict[N] = {\n",
    "        'tauhat':np.array(tauhats).reshape([len(tauhats),1]),\n",
    "        'sehat':np.array(sehats).reshape([len(sehats),1])\n",
    "    }"
   ]
  },
  {
   "cell_type": "code",
   "execution_count": 169,
   "id": "54a96a30",
   "metadata": {},
   "outputs": [
    {
     "name": "stdout",
     "output_type": "stream",
     "text": [
      "N=100: bias=-0.1293422669296599, RMSE=2.333357697203625, size=0.063\n",
      "N=1000: bias=-0.007884526245269462, RMSE=0.7218222299307855, size=0.05\n"
     ]
    }
   ],
   "source": [
    "tau0 = tau*np.ones([R,1])\n",
    "for N, results in estDict.items():\n",
    "    (bias,rmse,size) = fn_bias_rmse_size(tau0,results['tauhat'],\n",
    "                                         results['sehat'])\n",
    "    print(f'N={N}: bias={bias}, RMSE={rmse}, size={size}')"
   ]
  },
  {
   "cell_type": "code",
   "execution_count": 170,
   "id": "b2a5b13b",
   "metadata": {},
   "outputs": [
    {
     "name": "stderr",
     "output_type": "stream",
     "text": [
      "100%|█████████████████████████████████████████████████████████████████████████████| 1000/1000 [00:02<00:00, 467.18it/s]\n",
      "100%|██████████████████████████████████████████████████████████████████████████████| 1000/1000 [00:18<00:00, 53.77it/s]\n"
     ]
    }
   ],
   "source": [
    "# Control covariates\n",
    "estDict = {}\n",
    "R = 1000\n",
    "for N in [100,1000]:\n",
    "    tauhats = []\n",
    "    sehats = []\n",
    "    for r in tqdm(range(R)):\n",
    "        Yab,T,X = fn_generate_data(tau,N,p,p0,corr,conf,flagX)\n",
    "        X_obs = X[:,:p0]\n",
    "        covars = np.concatenate([T,X_obs],axis = 1)\n",
    "        mod = sm.OLS(Yab,covars)\n",
    "        res = mod.fit()\n",
    "        tauhat = res.params[0]\n",
    "        se_tauhat = res.HC1_se[0]\n",
    "        tauhats = tauhats + [tauhat]\n",
    "        sehats = sehats + [se_tauhat]\n",
    "        \n",
    "    estDict[N] = {\n",
    "        'tauhat':np.array(tauhats).reshape([len(tauhats),1]),\n",
    "        'sehat':np.array(sehats).reshape([len(sehats),1])\n",
    "    }"
   ]
  },
  {
   "cell_type": "code",
   "execution_count": 171,
   "id": "80261318",
   "metadata": {},
   "outputs": [
    {
     "name": "stdout",
     "output_type": "stream",
     "text": [
      "N=100: bias=-0.004978260572005676, RMSE=0.14372161607701409, size=0.052\n",
      "N=1000: bias=-0.0002179656048860909, RMSE=0.045582259242520295, size=0.055\n"
     ]
    }
   ],
   "source": [
    "tau0 = tau*np.ones([R,1])\n",
    "for N, results in estDict.items():\n",
    "    (bias,rmse,size) = fn_bias_rmse_size(tau0,results['tauhat'],\n",
    "                                         results['sehat'])\n",
    "    print(f'N={N}: bias={bias}, RMSE={rmse}, size={size}')"
   ]
  },
  {
   "cell_type": "markdown",
   "id": "3a2b636b",
   "metadata": {},
   "source": [
    "From the results, when the sample size is large(=1000), the difference between the true and estimated values is small."
   ]
  },
  {
   "cell_type": "markdown",
   "id": "33ec7101",
   "metadata": {},
   "source": [
    "## 2. Simulate a DGP with a confounder (common cause)\n",
    "\n",
    "   $Y= e + \\tau * T +  0.5 * Z$\n",
    "   \n",
    "   $T = c + 0.2 * Z$\n",
    "   \n",
    "   An example of a real-life situation:\n",
    "   \n",
    "   Y - Income level , Z - Family background , T - Educational background "
   ]
  },
  {
   "cell_type": "code",
   "execution_count": 172,
   "id": "1f1b52a6",
   "metadata": {},
   "outputs": [
    {
     "data": {
      "image/png": "[encoded data removed]",
      "text/plain": [
       "<Figure size 432x288 with 1 Axes>"
      ]
     },
     "metadata": {},
     "output_type": "display_data"
    }
   ],
   "source": [
    "G = nx.DiGraph()\n",
    "    \n",
    "G.add_node('s1', desc='Y')\n",
    "G.add_node('s2', desc='T')\n",
    "G.add_node('s3', desc='Z')\n",
    "G.add_edge('s2','s1')\n",
    "G.add_edge('s3','s2')\n",
    "G.add_edge('s3','s1')\n",
    "pos = nx.spring_layout(G)\n",
    "nx.draw(G, pos)\n",
    "node_labels = nx.get_node_attributes(G, 'desc')\n",
    "nx.draw_networkx_labels(G, pos, labels=node_labels)\n",
    "plt.show()"
   ]
  },
  {
   "cell_type": "code",
   "execution_count": 173,
   "id": "bb0d8095",
   "metadata": {},
   "outputs": [],
   "source": [
    "def generate_data_confounder(tau,N,p,corr):\n",
    "    nvar = p+1 \n",
    "    corr = 0.5 # correlation for multivariate normal\n",
    "    allX = fn_generate_multnorm(N,corr,nvar)\n",
    "    Z = allX[:,1].reshape([N,1]) # confounder\n",
    "    T = fn_randomize_treatment(N) # choose treated units\n",
    "    e = np.random.normal(0,1,[N,1])\n",
    "    Yab = tau * T + 0.5 * Z + e\n",
    "    Tab = T + 0.2 * Z\n",
    "\n",
    "    return (Yab,Tab,Z)"
   ]
  },
  {
   "cell_type": "code",
   "execution_count": 174,
   "id": "cf2b089b",
   "metadata": {},
   "outputs": [],
   "source": [
    "tau = 2\n",
    "corr = 0.5\n",
    "N = 1000\n",
    "p = 3\n",
    "\n",
    "Yab, Tab, Z = generate_data_confounder(tau,N,p,corr)\n",
    "dt2 =  pd.DataFrame(np.concatenate([Yab, Tab, Z],axis=1),columns=['Yab','Tab','Z'])\n",
    "dt2.to_csv('2.csv')"
   ]
  },
  {
   "cell_type": "code",
   "execution_count": 175,
   "id": "eacd632b",
   "metadata": {},
   "outputs": [
    {
     "name": "stderr",
     "output_type": "stream",
     "text": [
      "100%|█████████████████████████████████████████████████████████████████████████████| 1000/1000 [00:01<00:00, 562.62it/s]\n",
      "100%|██████████████████████████████████████████████████████████████████████████████| 1000/1000 [00:16<00:00, 61.80it/s]\n"
     ]
    }
   ],
   "source": [
    "# Not control confounder\n",
    "estDict = {}\n",
    "R = 1000\n",
    "for N in [100,1000]:\n",
    "    tauhats = []\n",
    "    sehats = []\n",
    "    for r in tqdm(range(R)):\n",
    "        Yab,Tab,Z = generate_data_confounder(tau,N,p,corr)\n",
    "        covars = np.concatenate([Tab],axis = 1)\n",
    "        mod = sm.OLS(Yab,covars)\n",
    "        res = mod.fit()\n",
    "        tauhat = res.params[0]\n",
    "        se_tauhat = res.HC1_se[0]\n",
    "        tauhats = tauhats + [tauhat]\n",
    "        sehats = sehats + [se_tauhat]\n",
    "    estDict[N] = {\n",
    "        'tauhat':np.array(tauhats).reshape([len(tauhats),1]),\n",
    "        'sehat':np.array(sehats).reshape([len(sehats),1])\n",
    "    }"
   ]
  },
  {
   "cell_type": "code",
   "execution_count": 176,
   "id": "5a2d20be",
   "metadata": {},
   "outputs": [
    {
     "name": "stdout",
     "output_type": "stream",
     "text": [
      "N=100: bias=0.03745875141613402, RMSE=0.14164599412456516, size=0.063\n",
      "N=1000: bias=0.03697594915576328, RMSE=0.058822330009760754, size=0.161\n"
     ]
    }
   ],
   "source": [
    "tau0 = tau*np.ones([R,1])\n",
    "for N, results in estDict.items():\n",
    "    (bias,rmse,size) = fn_bias_rmse_size(tau0,results['tauhat'],\n",
    "                                         results['sehat'])\n",
    "    print(f'N={N}: bias={bias}, RMSE={rmse}, size={size}')"
   ]
  },
  {
   "cell_type": "code",
   "execution_count": 177,
   "id": "15f81c6f",
   "metadata": {},
   "outputs": [
    {
     "name": "stderr",
     "output_type": "stream",
     "text": [
      "100%|█████████████████████████████████████████████████████████████████████████████| 1000/1000 [00:02<00:00, 467.95it/s]\n",
      "100%|██████████████████████████████████████████████████████████████████████████████| 1000/1000 [00:15<00:00, 62.95it/s]\n"
     ]
    }
   ],
   "source": [
    "# Control confounder\n",
    "estDict = {}\n",
    "R = 1000\n",
    "for N in [100,1000]:\n",
    "    tauhats = []\n",
    "    sehats = []\n",
    "    for r in tqdm(range(R)):\n",
    "        Yab,Tab,Z = generate_data_confounder(tau,N,p,corr)\n",
    "        covars = np.concatenate([Tab,Z],axis = 1)\n",
    "        mod = sm.OLS(Yab,covars)\n",
    "        res = mod.fit()\n",
    "        tauhat = res.params[0]\n",
    "        se_tauhat = res.HC1_se[0]\n",
    "        tauhats = tauhats + [tauhat]\n",
    "        sehats = sehats + [se_tauhat]\n",
    "        \n",
    "    estDict[N] = {\n",
    "        'tauhat':np.array(tauhats).reshape([len(tauhats),1]),\n",
    "        'sehat':np.array(sehats).reshape([len(sehats),1])\n",
    "    }"
   ]
  },
  {
   "cell_type": "code",
   "execution_count": 178,
   "id": "61a08476",
   "metadata": {},
   "outputs": [
    {
     "name": "stdout",
     "output_type": "stream",
     "text": [
      "N=100: bias=-0.005802949446942173, RMSE=0.1440820372839961, size=0.058\n",
      "N=1000: bias=0.0003584093066758367, RMSE=0.044866152454959764, size=0.047\n"
     ]
    }
   ],
   "source": [
    "tau0 = tau*np.ones([R,1])\n",
    "for N, results in estDict.items():\n",
    "    (bias,rmse,size) = fn_bias_rmse_size(tau0,results['tauhat'],\n",
    "                                         results['sehat'])\n",
    "    print(f'N={N}: bias={bias}, RMSE={rmse}, size={size}')"
   ]
  },
  {
   "cell_type": "markdown",
   "id": "b6a037a7",
   "metadata": {},
   "source": [
    "From the results, when the sample size is large(=1000), the difference between the true and estimated values is small."
   ]
  },
  {
   "cell_type": "markdown",
   "id": "b1d9fbe8",
   "metadata": {},
   "source": [
    "## 3. Simulate a DGP with selection bias into the treatment (variable in between the path from the treatment to the outcome).\n",
    "\n",
    "  $Y = e + \\tau * T$ \n",
    "  \n",
    "  $Z = c + 0.3 * T + 0.6 * Y$\n",
    "  \n",
    "  An example of a real-life situation: I want to know the effect of job performance on salary, and effort has an impact on both job performance and salary.\n",
    "  \n",
    "  T - Effort,\n",
    "  Y - Job Performance,\n",
    "  Z - Salary increase"
   ]
  },
  {
   "cell_type": "code",
   "execution_count": 179,
   "id": "9ebd950a",
   "metadata": {},
   "outputs": [
    {
     "data": {
      "image/png": "[encoded data removed]",
      "text/plain": [
       "<Figure size 432x288 with 1 Axes>"
      ]
     },
     "metadata": {},
     "output_type": "display_data"
    }
   ],
   "source": [
    "G = nx.DiGraph()\n",
    "    \n",
    "G.add_node('s1', desc='Z')\n",
    "G.add_node('s2', desc='Y')\n",
    "G.add_node('s3', desc='T')\n",
    "G.add_edge('s2','s1')\n",
    "G.add_edge('s3','s1')\n",
    "G.add_edge('s3','s2')\n",
    "    \n",
    "pos = nx.spring_layout(G)\n",
    "nx.draw(G, pos)\n",
    "node_labels = nx.get_node_attributes(G, 'desc')\n",
    "nx.draw_networkx_labels(G, pos, labels=node_labels)\n",
    "plt.show()"
   ]
  },
  {
   "cell_type": "code",
   "execution_count": 180,
   "id": "8219aba6",
   "metadata": {},
   "outputs": [],
   "source": [
    "def generate_data_select_bias(tau,N,p,corr):\n",
    "\n",
    "    nvar = p+1 # 1 for selection bias\n",
    "    corr = 0.5 # correlation for multivariate normal\n",
    " \n",
    "    allX = fn_generate_multnorm(N,corr,nvar)\n",
    "     \n",
    "    T = fn_randomize_treatment(N) # choose treated units\n",
    "    e = np.random.normal(0,1,[N,1])\n",
    "    c = np.random.normal(0,1,[N,1])\n",
    "    Yab = e + tau * T\n",
    "    Zab = c + 0.3 * T + 0.6 * Yab\n",
    "\n",
    "    return (Yab,T,Zab)"
   ]
  },
  {
   "cell_type": "code",
   "execution_count": 181,
   "id": "98b13269",
   "metadata": {},
   "outputs": [],
   "source": [
    "tau = 0.5\n",
    "corr = 0.5\n",
    "N = 1000\n",
    "p = 3\n",
    "Yab,T,Zab = generate_data_select_bias(tau,N,p,corr)\n",
    "dt3 =  pd.DataFrame(np.concatenate([Yab,T,Zab],axis=1),columns=['Yab','T','Zab'])\n",
    "dt3.to_csv('3.csv')"
   ]
  },
  {
   "cell_type": "code",
   "execution_count": 182,
   "id": "57f7a9c8",
   "metadata": {},
   "outputs": [
    {
     "name": "stderr",
     "output_type": "stream",
     "text": [
      "100%|████████████████████████████████████████████████████████████████████████████| 1000/1000 [00:00<00:00, 1111.88it/s]\n",
      "100%|██████████████████████████████████████████████████████████████████████████████| 1000/1000 [00:11<00:00, 86.53it/s]\n"
     ]
    }
   ],
   "source": [
    "# Not control selection bias\n",
    "estDict = {}\n",
    "R = 1000\n",
    "for N in [100,1000]:\n",
    "    tauhats = []\n",
    "    sehats = []\n",
    "    for r in tqdm(range(R)):\n",
    "        Yab,T,Zab = generate_data_select_bias(tau,N,p,corr)   \n",
    "        Yt = Yab[np.where(T==1)[0],:]\n",
    "        Yc = Yab[np.where(T==0)[0],:]\n",
    "        tauhat,se_tauhat = fn_tauhat_means(Yt,Yc)\n",
    "        tauhats = tauhats + [tauhat]\n",
    "        sehats = sehats + [se_tauhat]\n",
    "        \n",
    "    estDict[N] = {\n",
    "        'tauhat':np.array(tauhats).reshape([len(tauhats),1]),\n",
    "        'sehat':np.array(sehats).reshape([len(sehats),1])\n",
    "    }"
   ]
  },
  {
   "cell_type": "code",
   "execution_count": 183,
   "id": "336a5735",
   "metadata": {},
   "outputs": [
    {
     "name": "stdout",
     "output_type": "stream",
     "text": [
      "N=100: bias=-0.008128455440121753, RMSE=0.1994348480539596, size=0.051\n",
      "N=1000: bias=0.0021281554569362506, RMSE=0.06401246797571014, size=0.055\n"
     ]
    }
   ],
   "source": [
    "tau0 = tau*np.ones([R,1])\n",
    "for N, results in estDict.items():\n",
    "    (bias,rmse,size) = fn_bias_rmse_size(tau0,results['tauhat'],\n",
    "                                         results['sehat'])\n",
    "    print(f'N={N}: bias={bias}, RMSE={rmse}, size={size}')"
   ]
  },
  {
   "cell_type": "code",
   "execution_count": 184,
   "id": "e0145afc",
   "metadata": {},
   "outputs": [
    {
     "name": "stderr",
     "output_type": "stream",
     "text": [
      "100%|█████████████████████████████████████████████████████████████████████████████| 1000/1000 [00:02<00:00, 472.23it/s]\n",
      "100%|██████████████████████████████████████████████████████████████████████████████| 1000/1000 [00:17<00:00, 58.61it/s]\n"
     ]
    }
   ],
   "source": [
    "# Control selection bias\n",
    "estDict = {}\n",
    "R = 1000\n",
    "for N in [100,1000]:\n",
    "    tauhats = []\n",
    "    sehats = []\n",
    "    for r in tqdm(range(R)):\n",
    "        Yab,T,Zab = generate_data_select_bias(tau,N,p,corr)\n",
    "        covars = np.concatenate([T,Zab],axis = 1)\n",
    "        mod = sm.OLS(Yab,covars)\n",
    "        res = mod.fit()\n",
    "        tauhat = res.params[0]\n",
    "        se_tauhat = res.HC1_se[0]\n",
    "        tauhats = tauhats + [tauhat]\n",
    "        sehats = sehats + [se_tauhat]\n",
    "        \n",
    "    estDict[N] = {\n",
    "        'tauhat':np.array(tauhats).reshape([len(tauhats),1]),\n",
    "        'sehat':np.array(sehats).reshape([len(sehats),1])\n",
    "    }"
   ]
  },
  {
   "cell_type": "code",
   "execution_count": 185,
   "id": "fdd2761e",
   "metadata": {},
   "outputs": [
    {
     "name": "stdout",
     "output_type": "stream",
     "text": [
      "N=100: bias=-0.2682140117357092, RMSE=0.2981617529806191, size=0.57\n",
      "N=1000: bias=-0.26393932517417545, RMSE=0.2668428930736104, size=1.0\n"
     ]
    }
   ],
   "source": [
    "tau0 = tau*np.ones([R,1])\n",
    "for N, results in estDict.items():\n",
    "    (bias,rmse,size) = fn_bias_rmse_size(tau0,results['tauhat'],\n",
    "                                         results['sehat'])\n",
    "    print(f'N={N}: bias={bias}, RMSE={rmse}, size={size}')"
   ]
  },
  {
   "cell_type": "markdown",
   "id": "f21ff793",
   "metadata": {},
   "source": [
    "## 4. Simulate a DGP where the outcome variable is overrepresented at 0.\n",
    "   \n",
    "   $Y = 0 * T + 0.6 * X + e$\n",
    "   \n",
    "   An example of a real-life situation: I want to know the relationship between height and income.\n",
    "   \n",
    "   T - height, X - ability, Y - income."
   ]
  },
  {
   "cell_type": "code",
   "execution_count": 186,
   "id": "f4dae517",
   "metadata": {},
   "outputs": [
    {
     "data": {
      "image/png": "[encoded data removed]",
      "text/plain": [
       "<Figure size 432x288 with 1 Axes>"
      ]
     },
     "metadata": {},
     "output_type": "display_data"
    }
   ],
   "source": [
    "G = nx.DiGraph()\n",
    "    \n",
    "G.add_node('s1', desc='Y')\n",
    "G.add_node('s2', desc='X')\n",
    "G.add_node('s3', desc='T')\n",
    "G.add_edge('s2','s1')\n",
    "    \n",
    "pos = nx.spring_layout(G)\n",
    "nx.draw(G, pos)\n",
    "node_labels = nx.get_node_attributes(G, 'desc')\n",
    "nx.draw_networkx_labels(G, pos, labels=node_labels)\n",
    "plt.show()"
   ]
  },
  {
   "cell_type": "code",
   "execution_count": 187,
   "id": "3d30f3ed",
   "metadata": {},
   "outputs": [],
   "source": [
    "tau = 0\n",
    "corr = 0.5\n",
    "conf = False\n",
    "p = 3\n",
    "p0 = 2\n",
    "flagX = 1\n",
    "N = 1000\n",
    "Yab, T, X = fn_generate_data(tau,N,p,p0,corr,conf,flagX)\n",
    "dt1 =  pd.DataFrame(np.concatenate([Yab, T, X],axis=1),columns=['Yab','T','X1','X2','X3'])\n",
    "dt1.to_csv('4.csv')"
   ]
  },
  {
   "cell_type": "code",
   "execution_count": 188,
   "id": "abd2ede8",
   "metadata": {},
   "outputs": [
    {
     "name": "stderr",
     "output_type": "stream",
     "text": [
      "100%|████████████████████████████████████████████████████████████████████████████| 1000/1000 [00:00<00:00, 1078.26it/s]\n",
      "100%|██████████████████████████████████████████████████████████████████████████████| 1000/1000 [00:11<00:00, 85.16it/s]\n"
     ]
    }
   ],
   "source": [
    "estDict = {}\n",
    "R = 1000\n",
    "for N in [100,1000]:\n",
    "    tauhats = []\n",
    "    sehats = []\n",
    "    for r in tqdm(range(R)):\n",
    "        Yab,T,X = fn_generate_data(tau,N,p,p0,corr,conf,flagX)\n",
    "        Yt = Yab[np.where(T==1)[0],:]\n",
    "        Yc = Yab[np.where(T==0)[0],:]\n",
    "        tauhat,se_tauhat = fn_tauhat_means(Yt,Yc)\n",
    "        tauhats = tauhats + [tauhat]\n",
    "        sehats = sehats + [se_tauhat]\n",
    "        \n",
    "    estDict[N] = {\n",
    "        'tauhat':np.array(tauhats).reshape([len(tauhats),1]),\n",
    "        'sehat':np.array(sehats).reshape([len(sehats),1])\n",
    "    }"
   ]
  },
  {
   "cell_type": "code",
   "execution_count": 189,
   "id": "6a544b28",
   "metadata": {},
   "outputs": [
    {
     "name": "stdout",
     "output_type": "stream",
     "text": [
      "N=100: bias=0.10792731208604694, RMSE=2.231613578830298, size=0.057\n",
      "N=1000: bias=-0.004411062386481764, RMSE=0.7139318705487359, size=0.044\n"
     ]
    }
   ],
   "source": [
    "tau0 = tau*np.ones([R,1])\n",
    "for N, results in estDict.items():\n",
    "    (bias,rmse,size) = fn_bias_rmse_size(tau0,results['tauhat'],\n",
    "                                         results['sehat'])\n",
    "    print(f'N={N}: bias={bias}, RMSE={rmse}, size={size}')"
   ]
  }
 ],
 "metadata": {
  "kernelspec": {
   "display_name": "Python 3",
   "language": "python",
   "name": "python3"
  },
  "language_info": {
   "codemirror_mode": {
    "name": "ipython",
    "version": 3
   },
   "file_extension": ".py",
   "mimetype": "text/x-python",
   "name": "python",
   "nbconvert_exporter": "python",
   "pygments_lexer": "ipython3",
   "version": "3.6.9"
  }
 },
 "nbformat": 4,
 "nbformat_minor": 5
}
