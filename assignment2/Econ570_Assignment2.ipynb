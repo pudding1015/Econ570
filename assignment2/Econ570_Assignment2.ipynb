{
 "cells": [
  {
   "cell_type": "code",
   "execution_count": 5,
   "id": "5488a7e7",
   "metadata": {},
   "outputs": [],
   "source": [
    "import numpy as np\n",
    "import pandas as pd\n",
    "import statsmodels.api as sm\n",
    "import matplotlib.pyplot as plt\n",
    "from sklearn import metrics\n",
    "import networkx as nx"
   ]
  },
  {
   "cell_type": "markdown",
   "id": "d9aa4f2b",
   "metadata": {},
   "source": [
    "## 1. Simulate a DGP where the outcome of interest depends on a randomly assigned treatment and some observed covariates.\n",
    "\n",
    "  $Y_i = a + b * X + c * Z + d * W$\n",
    "  \n",
    "  covariates: $Z,W$\n",
    "  \n",
    "  An example of a real-life situation: I want to know the influence of temperature on precipitation, but variables such as altitude,    longitude and latitude and local humidity will also affect precipitation.\n",
    "  \n",
    "  X - temperature, Z - altitude, W - humidity,  Y - precipitation."
   ]
  },
  {
   "cell_type": "code",
   "execution_count": 6,
   "id": "dcb887f4",
   "metadata": {},
   "outputs": [
    {
     "data": {
      "image/png": "[encoded data removed]",
      "text/plain": [
       "<Figure size 432x288 with 1 Axes>"
      ]
     },
     "metadata": {},
     "output_type": "display_data"
    }
   ],
   "source": [
    "G = nx.DiGraph()\n",
    "    \n",
    "G.add_node('s1', desc='Y')\n",
    "G.add_node('s2', desc='X')\n",
    "G.add_node('s3', desc='Z')\n",
    "G.add_node('s4', desc='W')\n",
    "G.add_edge('s2','s1')\n",
    "G.add_edge('s3','s1')\n",
    "G.add_edge('s4','s1')\n",
    "    \n",
    "pos = nx.spring_layout(G)\n",
    "nx.draw(G, pos)\n",
    "node_labels = nx.get_node_attributes(G, 'desc')\n",
    "nx.draw_networkx_labels(G, pos, labels=node_labels)\n",
    "plt.show()"
   ]
  },
  {
   "cell_type": "code",
   "execution_count": 21,
   "id": "070214be",
   "metadata": {},
   "outputs": [],
   "source": [
    "n = 100\n",
    "a = 0.5\n",
    "c = 1.2\n",
    "d = 2.1\n",
    "slope_estimates_a = []\n",
    "slope_estimates_b = []\n",
    "bias_estimates_a = []\n",
    "bias_estimates_b = []"
   ]
  },
  {
   "cell_type": "markdown",
   "id": "9031b730",
   "metadata": {},
   "source": [
    "### When sample size is 100."
   ]
  },
  {
   "cell_type": "code",
   "execution_count": 22,
   "id": "f0558a13",
   "metadata": {},
   "outputs": [],
   "source": [
    "slope_estimates_a.clear()\n",
    "slope_estimates_b.clear()\n",
    "bias_estimates_a.clear()\n",
    "bias_estimates_b.clear()\n",
    "\n",
    "for mc_replication in range(100):\n",
    "    b = np.random.rand(1)\n",
    "    X = np.random.uniform(0, 1, n)\n",
    "    Z = np.random.uniform(0, 1, n)\n",
    "    W = np.random.uniform(0, 1, n)\n",
    "    \n",
    "    # a.You do not control for any covariates\n",
    "    Ya = a + b * X + c * Z + d * W  \n",
    "    mod_a = sm.OLS(Ya, sm.add_constant(X))\n",
    "    res_a = mod_a.fit()\n",
    "    slope_estimates_a = slope_estimates_a + [res_a.params[1]]\n",
    "    bias_estimates_a = bias_estimates_a + [res_a.params[0]]\n",
    "    \n",
    "    # b.You control for all the covariates that affect the outcome\n",
    "    Yb = a + b * X                  \n",
    "    mod_b = sm.OLS(Yb, sm.add_constant(X))\n",
    "    res_b = mod_b.fit()\n",
    "    slope_estimates_b = slope_estimates_b + [res_b.params[1]]\n",
    "    bias_estimates_b = bias_estimates_b + [res_b.params[0]]"
   ]
  },
  {
   "cell_type": "markdown",
   "id": "a100c870",
   "metadata": {},
   "source": [
    "**a.You do not control for any covariates**"
   ]
  },
  {
   "cell_type": "code",
   "execution_count": 23,
   "id": "2aedb7d4",
   "metadata": {},
   "outputs": [
    {
     "name": "stdout",
     "output_type": "stream",
     "text": [
      "slope_estimate: 0.5470736699208859\n",
      "bias_estimate: 2.101505785361163\n"
     ]
    }
   ],
   "source": [
    "print('slope_estimate:',np.mean(slope_estimates_a))\n",
    "print('bias_estimate:',np.mean(bias_estimates_a))"
   ]
  },
  {
   "cell_type": "code",
   "execution_count": 24,
   "id": "8efc681b",
   "metadata": {},
   "outputs": [
    {
     "name": "stdout",
     "output_type": "stream",
     "text": [
      "RMSE: 0.4326302503638861 bias: 0.2736696427086273\n"
     ]
    }
   ],
   "source": [
    "b0 = b*np.ones([100,1])\n",
    "temp = slope_estimates_a - b0\n",
    "bias = np.mean(temp)\n",
    "rmse = np.sqrt(np.mean(temp**2))\n",
    "print('RMSE:',rmse,'bias:',bias)"
   ]
  },
  {
   "cell_type": "markdown",
   "id": "3a04d809",
   "metadata": {},
   "source": [
    "**b.You control for all the covariates that affect the outcome**"
   ]
  },
  {
   "cell_type": "code",
   "execution_count": 25,
   "id": "0aa20598",
   "metadata": {},
   "outputs": [
    {
     "name": "stdout",
     "output_type": "stream",
     "text": [
      "slope_estimate: 0.47924789617553765\n",
      "bias_estimate: 0.5\n"
     ]
    }
   ],
   "source": [
    "print('slope_estimate:',np.mean(slope_estimates_b))\n",
    "print('bias_estimate:',np.mean(bias_estimates_b))"
   ]
  },
  {
   "cell_type": "code",
   "execution_count": 26,
   "id": "14257e37",
   "metadata": {},
   "outputs": [
    {
     "name": "stdout",
     "output_type": "stream",
     "text": [
      "RMSE: 0.3394640429194407 bias: 0.20584386896327905\n"
     ]
    }
   ],
   "source": [
    "b0 = b*np.ones([100,1])\n",
    "temp = slope_estimates_b - b0\n",
    "bias = np.mean(temp)\n",
    "rmse = np.sqrt(np.mean(temp**2))\n",
    "print('RMSE:',rmse,'bias:',bias)"
   ]
  },
  {
   "cell_type": "markdown",
   "id": "d9fe433e",
   "metadata": {},
   "source": [
    "### When the sample size is 1000."
   ]
  },
  {
   "cell_type": "code",
   "execution_count": 27,
   "id": "9cdaa12c",
   "metadata": {},
   "outputs": [],
   "source": [
    "slope_estimates_a.clear()\n",
    "slope_estimates_b.clear()\n",
    "bias_estimates_a.clear()\n",
    "bias_estimates_b.clear()\n",
    "\n",
    "for mc_replication in range(1000):\n",
    "    b = np.random.rand(1)\n",
    "    X = np.random.uniform(0, 1, n)\n",
    "    Z = np.random.uniform(0, 1, n)\n",
    "    W = np.random.uniform(0, 1, n)\n",
    "    \n",
    "    # a.You do not control for any covariates\n",
    "    Ya = a + b * X + c * Z + d * W  \n",
    "    mod_a = sm.OLS(Ya, sm.add_constant(X))\n",
    "    res_a = mod_a.fit()\n",
    "    slope_estimates_a = slope_estimates_a + [res_a.params[1]]\n",
    "    bias_estimates_a = bias_estimates_a + [res_a.params[0]]\n",
    "    # b.You control for all the covariates that affect the outcome\n",
    "    Yb = a + b * X                  \n",
    "    mod_b = sm.OLS(Yb, sm.add_constant(X))\n",
    "    res_b = mod_b.fit()\n",
    "    slope_estimates_b = slope_estimates_b + [res_b.params[1]]\n",
    "    bias_estimates_b = bias_estimates_b + [res_b.params[0]]"
   ]
  },
  {
   "cell_type": "markdown",
   "id": "fb2d3875",
   "metadata": {},
   "source": [
    "**a.You do not control for any covariates**"
   ]
  },
  {
   "cell_type": "code",
   "execution_count": 28,
   "id": "f937f5be",
   "metadata": {},
   "outputs": [
    {
     "name": "stdout",
     "output_type": "stream",
     "text": [
      "slope_estimate: 0.5086792866784179\n",
      "bias_estimate: 2.1441462201628183\n"
     ]
    }
   ],
   "source": [
    "print('slope_estimate:',np.mean(slope_estimates_a))\n",
    "print('bias_estimate:',np.mean(bias_estimates_a))"
   ]
  },
  {
   "cell_type": "code",
   "execution_count": 29,
   "id": "93c5e052",
   "metadata": {},
   "outputs": [
    {
     "name": "stdout",
     "output_type": "stream",
     "text": [
      "RMSE: 0.38671425144159954 bias: 0.03931660949723313\n"
     ]
    }
   ],
   "source": [
    "b0 = b*np.ones([1000,1])\n",
    "temp = slope_estimates_a - b0\n",
    "bias = np.mean(temp)\n",
    "rmse = np.sqrt(np.mean(temp**2))\n",
    "print('RMSE:',rmse,'bias:',bias)"
   ]
  },
  {
   "cell_type": "markdown",
   "id": "472e7cf4",
   "metadata": {},
   "source": [
    "**b.You control for all the covariates that affect the outcome**"
   ]
  },
  {
   "cell_type": "code",
   "execution_count": 30,
   "id": "ecde3cf3",
   "metadata": {},
   "outputs": [
    {
     "name": "stdout",
     "output_type": "stream",
     "text": [
      "slope_estimate: 0.4995797858157573\n",
      "bias_estimate: 0.5\n"
     ]
    }
   ],
   "source": [
    "print('slope_estimate:',np.mean(slope_estimates_b))\n",
    "print('bias_estimate:',np.mean(bias_estimates_b))"
   ]
  },
  {
   "cell_type": "code",
   "execution_count": 31,
   "id": "31522255",
   "metadata": {},
   "outputs": [
    {
     "name": "stdout",
     "output_type": "stream",
     "text": [
      "RMSE: 0.29043752641910253 bias: 0.030217108634572568\n"
     ]
    }
   ],
   "source": [
    "b0 = b*np.ones([1000,1])\n",
    "temp = slope_estimates_b - b0\n",
    "bias = np.mean(temp)\n",
    "rmse = np.sqrt(np.mean(temp**2))\n",
    "print('RMSE:',rmse,'bias:',bias)"
   ]
  },
  {
   "cell_type": "markdown",
   "id": "808da07f",
   "metadata": {},
   "source": [
    "From the results, when the sample size is large(=1000), the difference between the true and estimated values is small."
   ]
  },
  {
   "cell_type": "markdown",
   "id": "ee77f288",
   "metadata": {},
   "source": [
    "## 2. Simulate a DGP with a confounder (common cause)\n",
    "\n",
    "   $Y_i= a + b * X_i$\n",
    "   \n",
    "   $Z_i = c + d * X_i$\n",
    "   \n",
    "   An example of a real-life situation:\n",
    "   \n",
    "   Z - worker education, Y - worker productivity, X - other characteristics which can cause both education and productivity\n",
    "   "
   ]
  },
  {
   "cell_type": "code",
   "execution_count": 35,
   "id": "ff79ebf6",
   "metadata": {},
   "outputs": [
    {
     "data": {
      "image/png": "[encoded data removed]",
      "text/plain": [
       "<Figure size 432x288 with 1 Axes>"
      ]
     },
     "metadata": {},
     "output_type": "display_data"
    }
   ],
   "source": [
    "G = nx.DiGraph()\n",
    "    \n",
    "G.add_node('s1', desc='Y')\n",
    "G.add_node('s2', desc='X')\n",
    "G.add_node('s3', desc='Z')\n",
    "G.add_edge('s2','s1')\n",
    "G.add_edge('s2','s3')\n",
    "    \n",
    "pos = nx.spring_layout(G)\n",
    "nx.draw(G, pos)\n",
    "node_labels = nx.get_node_attributes(G, 'desc')\n",
    "nx.draw_networkx_labels(G, pos, labels=node_labels)\n",
    "plt.show()"
   ]
  },
  {
   "cell_type": "code",
   "execution_count": 61,
   "id": "5f4ad62f",
   "metadata": {},
   "outputs": [],
   "source": [
    "a = 1.5\n",
    "b = 1.2\n",
    "c = 2.1\n",
    "d = 2.5"
   ]
  },
  {
   "cell_type": "markdown",
   "id": "331fdcba",
   "metadata": {},
   "source": [
    "### When the sample size is 100."
   ]
  },
  {
   "cell_type": "code",
   "execution_count": 62,
   "id": "1cabfdf4",
   "metadata": {},
   "outputs": [],
   "source": [
    "slope_estimates_a.clear()\n",
    "slope_estimates_b.clear()\n",
    "bias_estimates_a.clear()\n",
    "bias_estimates_b.clear()\n",
    "\n",
    "for mc_replication in range(100):\n",
    "    X = np.random.uniform(0, 1, n)\n",
    "    \n",
    "    # a. fail to control for the confounder\n",
    "    Ya = a + b * X\n",
    "    Z = c + d * X \n",
    "    mod_a = sm.OLS(Ya, sm.add_constant(Z))\n",
    "    res_a = mod_a.fit()\n",
    "    slope_estimates_a = slope_estimates_a + [res_a.params[1]]\n",
    "    bias_estimates_a = bias_estimates_a + [res_a.params[0]]\n",
    "    \n",
    "    # b. control for the confounder\n",
    "    Yb = a + b * X \n",
    "    mod_b = sm.OLS(Yb, sm.add_constant(X))\n",
    "    res_b = mod_b.fit()\n",
    "    slope_estimates_b = slope_estimates_b + [res_b.params[1]]\n",
    "    bias_estimates_b = bias_estimates_b + [res_b.params[0]]"
   ]
  },
  {
   "cell_type": "markdown",
   "id": "9ed6b7ac",
   "metadata": {},
   "source": [
    "**a. Fail to control for the confounder**"
   ]
  },
  {
   "cell_type": "code",
   "execution_count": 63,
   "id": "0cf907da",
   "metadata": {},
   "outputs": [
    {
     "name": "stdout",
     "output_type": "stream",
     "text": [
      "slope_estimate: 0.47999999999999987\n",
      "bias_estimate: 0.49199999999999977\n"
     ]
    }
   ],
   "source": [
    "print('slope_estimate:',np.mean(slope_estimates_a))\n",
    "print('bias_estimate:',np.mean(bias_estimates_a))"
   ]
  },
  {
   "cell_type": "code",
   "execution_count": 64,
   "id": "f161d085",
   "metadata": {},
   "outputs": [
    {
     "name": "stdout",
     "output_type": "stream",
     "text": [
      "RMSE: 0.72 bias: -0.72\n"
     ]
    }
   ],
   "source": [
    "b0 = b*np.ones([100,1])\n",
    "temp = slope_estimates_a - b0\n",
    "bias = np.mean(temp)\n",
    "rmse = np.sqrt(np.mean(temp**2))\n",
    "print('RMSE:',rmse,'bias:',bias)"
   ]
  },
  {
   "cell_type": "markdown",
   "id": "3dbbeb3b",
   "metadata": {},
   "source": [
    "**b.You do control for the confounder**"
   ]
  },
  {
   "cell_type": "code",
   "execution_count": 65,
   "id": "9a03856c",
   "metadata": {},
   "outputs": [
    {
     "name": "stdout",
     "output_type": "stream",
     "text": [
      "slope_estimate: 1.2\n",
      "bias_estimate: 1.5\n"
     ]
    }
   ],
   "source": [
    "print('slope_estimate:',np.mean(slope_estimates_b))\n",
    "print('bias_estimate:',np.mean(bias_estimates_b))"
   ]
  },
  {
   "cell_type": "code",
   "execution_count": 66,
   "id": "342038d5",
   "metadata": {},
   "outputs": [
    {
     "name": "stdout",
     "output_type": "stream",
     "text": [
      "RMSE: 4.1954092705889643e-16 bias: -1.1102230246251566e-17\n"
     ]
    }
   ],
   "source": [
    "b0 = b*np.ones([100,1])\n",
    "temp = slope_estimates_b - b0\n",
    "bias = np.mean(temp)\n",
    "rmse = np.sqrt(np.mean(temp**2))\n",
    "print('RMSE:',rmse,'bias:',bias)"
   ]
  },
  {
   "cell_type": "markdown",
   "id": "b792b42e",
   "metadata": {},
   "source": [
    "### When the sample size is 1000."
   ]
  },
  {
   "cell_type": "code",
   "execution_count": 67,
   "id": "f5dd8b8c",
   "metadata": {},
   "outputs": [],
   "source": [
    "slope_estimates_a.clear()\n",
    "slope_estimates_b.clear()\n",
    "bias_estimates_a.clear()\n",
    "bias_estimates_b.clear()\n",
    "\n",
    "for mc_replication in range(1000):\n",
    "    X = np.random.uniform(0, 1, n)\n",
    "    \n",
    "    # a. fail to control for the confounder\n",
    "    Ya = a + b * X\n",
    "    Z = c + d * X \n",
    "    mod_a = sm.OLS(Ya, sm.add_constant(Z))\n",
    "    res_a = mod_a.fit()\n",
    "    slope_estimates_a = slope_estimates_a + [res_a.params[1]]\n",
    "    bias_estimates_a = bias_estimates_a + [res_a.params[0]]\n",
    "    \n",
    "    # b. control for the confounder\n",
    "    Yb = a + b * X \n",
    "    mod_b = sm.OLS(Yb, sm.add_constant(X))\n",
    "    res_b = mod_b.fit()\n",
    "    slope_estimates_b = slope_estimates_b + [res_b.params[1]]\n",
    "    bias_estimates_b = bias_estimates_b + [res_b.params[0]]"
   ]
  },
  {
   "cell_type": "markdown",
   "id": "2f1cc0a6",
   "metadata": {},
   "source": [
    "**a. Fail to control for the confounder**"
   ]
  },
  {
   "cell_type": "code",
   "execution_count": 68,
   "id": "7a59de8a",
   "metadata": {},
   "outputs": [
    {
     "name": "stdout",
     "output_type": "stream",
     "text": [
      "slope_estimate: 0.48\n",
      "bias_estimate: 0.492\n"
     ]
    }
   ],
   "source": [
    "print('slope_estimate:',np.mean(slope_estimates_a))\n",
    "print('bias_estimate:',np.mean(bias_estimates_a))"
   ]
  },
  {
   "cell_type": "code",
   "execution_count": 69,
   "id": "9069b008",
   "metadata": {},
   "outputs": [
    {
     "name": "stdout",
     "output_type": "stream",
     "text": [
      "RMSE: 0.7199999999999999 bias: -0.7199999999999992\n"
     ]
    }
   ],
   "source": [
    "b0 = b*np.ones([1000,1])\n",
    "temp = slope_estimates_a - b0\n",
    "bias = np.mean(temp)\n",
    "rmse = np.sqrt(np.mean(temp**2))\n",
    "print('RMSE:',rmse,'bias:',bias)"
   ]
  },
  {
   "cell_type": "markdown",
   "id": "f94f5b4d",
   "metadata": {},
   "source": [
    "**b.You do control for the confounder**"
   ]
  },
  {
   "cell_type": "code",
   "execution_count": 70,
   "id": "f2265cab",
   "metadata": {},
   "outputs": [
    {
     "name": "stdout",
     "output_type": "stream",
     "text": [
      "slope_estimate: 1.1999999999999995\n",
      "bias_estimate: 1.5\n"
     ]
    }
   ],
   "source": [
    "print('slope_estimate:',np.mean(slope_estimates_b))\n",
    "print('bias_estimate:',np.mean(bias_estimates_b))"
   ]
  },
  {
   "cell_type": "code",
   "execution_count": 71,
   "id": "9818a1ed",
   "metadata": {},
   "outputs": [
    {
     "name": "stdout",
     "output_type": "stream",
     "text": [
      "RMSE: 4.861712133876764e-16 bias: -1.865174681370263e-17\n"
     ]
    }
   ],
   "source": [
    "b0 = b*np.ones([1000,1])\n",
    "temp = slope_estimates_b - b0\n",
    "bias = np.mean(temp)\n",
    "rmse = np.sqrt(np.mean(temp**2))\n",
    "print('RMSE:',rmse,'bias:',bias)"
   ]
  },
  {
   "cell_type": "markdown",
   "id": "6d43755f",
   "metadata": {},
   "source": [
    "From the results, the sample size has a negligible effect on the difference between the true and estimated values."
   ]
  },
  {
   "cell_type": "markdown",
   "id": "b98c8552",
   "metadata": {},
   "source": [
    "## 3. Simulate a DGP with selection bias into the treatment (variable in between the path from the treatment to the outcome).\n",
    "\n",
    "  $Y = a + b * X + 0.3 *Z$ \n",
    "  \n",
    "  $X = 0.2 * Z + e$\n",
    "  \n",
    "  An example of a real-life situation: I want to know the effect of job performance on salary, and effort has an impact on both job performance and salary.\n",
    "  \n",
    "  Z - Effort,\n",
    "  X - Job Performance,\n",
    "  Y - Salary increase"
   ]
  },
  {
   "cell_type": "code",
   "execution_count": 92,
   "id": "e99bdd43",
   "metadata": {},
   "outputs": [
    {
     "data": {
      "image/png": "[encoded data removed]",
      "text/plain": [
       "<Figure size 432x288 with 1 Axes>"
      ]
     },
     "metadata": {},
     "output_type": "display_data"
    }
   ],
   "source": [
    "G = nx.DiGraph()\n",
    "    \n",
    "G.add_node('s1', desc='Y')\n",
    "G.add_node('s2', desc='X')\n",
    "G.add_node('s3', desc='Z')\n",
    "G.add_edge('s2','s1')\n",
    "G.add_edge('s3','s1')\n",
    "G.add_edge('s3','s2')\n",
    "    \n",
    "pos = nx.spring_layout(G)\n",
    "nx.draw(G, pos)\n",
    "node_labels = nx.get_node_attributes(G, 'desc')\n",
    "nx.draw_networkx_labels(G, pos, labels=node_labels)\n",
    "plt.show()"
   ]
  },
  {
   "cell_type": "code",
   "execution_count": 117,
   "id": "b3ead318",
   "metadata": {},
   "outputs": [],
   "source": [
    "a = 1.2\n",
    "b = 2.1\n",
    "n = 100"
   ]
  },
  {
   "cell_type": "markdown",
   "id": "2ccd0138",
   "metadata": {},
   "source": [
    "### When the sample size is 100."
   ]
  },
  {
   "cell_type": "code",
   "execution_count": 118,
   "id": "71116e93",
   "metadata": {},
   "outputs": [],
   "source": [
    "slope_estimates_a.clear()\n",
    "slope_estimates_b.clear()\n",
    "bias_estimates_a.clear()\n",
    "bias_estimates_b.clear()\n",
    "\n",
    "for mc_replication in range(100):\n",
    "    e = np.random.normal(0,1,n)\n",
    "    Z = np.random.uniform(0, 1, n)\n",
    "    X = 0.2 * Z + e\n",
    "    Y = a + b * X +0.3 * Z\n",
    "    \n",
    "    # a. Control for the variable in between the path from cause to effect    \n",
    "    mod_a = sm.OLS(Y, sm.add_constant(X))\n",
    "    res_a = mod_a.fit()\n",
    "    slope_estimates_a = slope_estimates_a + [res_a.params[1]]\n",
    "    bias_estimates_a = bias_estimates_a + [res_a.params[0]]\n",
    "    \n",
    "    # b. Do not control for the variable in between the path from cause to effect\n",
    "    mod_b = sm.OLS(Y, sm.add_constant(Z))\n",
    "    res_b = mod_b.fit()\n",
    "    slope_estimates_b = slope_estimates_b + [res_b.params[1]]\n",
    "    bias_estimates_b = bias_estimates_b + [res_b.params[0]]"
   ]
  },
  {
   "cell_type": "markdown",
   "id": "40bd5253",
   "metadata": {},
   "source": [
    "**a. You control for the variable in between the path from cause to effect**"
   ]
  },
  {
   "cell_type": "code",
   "execution_count": 119,
   "id": "b620c406",
   "metadata": {},
   "outputs": [
    {
     "name": "stdout",
     "output_type": "stream",
     "text": [
      "slope_estimate: 2.1046340555589085\n",
      "bias_estimate: 1.3494162184337253\n"
     ]
    }
   ],
   "source": [
    "print('slope_estimate:',np.mean(slope_estimates_a))\n",
    "print('bias_estimate:',np.mean(bias_estimates_a))"
   ]
  },
  {
   "cell_type": "code",
   "execution_count": 120,
   "id": "05456043",
   "metadata": {},
   "outputs": [
    {
     "name": "stdout",
     "output_type": "stream",
     "text": [
      "RMSE: 0.009596014652324757 bias: 0.004634055558908883\n"
     ]
    }
   ],
   "source": [
    "b0 = b*np.ones([100,1])\n",
    "temp = slope_estimates_a - b0\n",
    "bias = np.mean(temp)\n",
    "rmse = np.sqrt(np.mean(temp**2))\n",
    "print('RMSE:',rmse,'bias:',bias)"
   ]
  },
  {
   "cell_type": "markdown",
   "id": "0e41f111",
   "metadata": {},
   "source": [
    "**b.You do not control for the variable in between the path from cause to effect**"
   ]
  },
  {
   "cell_type": "code",
   "execution_count": 121,
   "id": "b6c3cfd6",
   "metadata": {},
   "outputs": [
    {
     "name": "stdout",
     "output_type": "stream",
     "text": [
      "slope_estimate: 0.6914321242201066\n",
      "bias_estimate: 1.2100477400600849\n"
     ]
    }
   ],
   "source": [
    "print('slope_estimate:',np.mean(slope_estimates_b))\n",
    "print('bias_estimate:',np.mean(bias_estimates_b))"
   ]
  },
  {
   "cell_type": "code",
   "execution_count": 122,
   "id": "1323e1b7",
   "metadata": {},
   "outputs": [
    {
     "name": "stdout",
     "output_type": "stream",
     "text": [
      "RMSE: 1.5628355255173485 bias: -1.4085678757798934\n"
     ]
    }
   ],
   "source": [
    "b0 = b*np.ones([n,1])\n",
    "temp = slope_estimates_b - b0\n",
    "bias = np.mean(temp)\n",
    "rmse = np.sqrt(np.mean(temp**2))\n",
    "print('RMSE:',rmse,'bias:',bias)"
   ]
  },
  {
   "cell_type": "markdown",
   "id": "c3718457",
   "metadata": {},
   "source": [
    "### When the sample size is 1000."
   ]
  },
  {
   "cell_type": "code",
   "execution_count": 123,
   "id": "c986d373",
   "metadata": {},
   "outputs": [],
   "source": [
    "slope_estimates_a.clear()\n",
    "slope_estimates_b.clear()\n",
    "bias_estimates_a.clear()\n",
    "bias_estimates_b.clear()\n",
    "\n",
    "for mc_replication in range(1000):\n",
    "    e = np.random.normal(0,1,n)\n",
    "    Z = np.random.uniform(0, 1, n)\n",
    "    X = 0.2 * Z + e\n",
    "    Y = a + b * X +0.3 * Z\n",
    "    \n",
    "    # a. Control for the variable in between the path from cause to effect    \n",
    "    mod_a = sm.OLS(Y, sm.add_constant(X))\n",
    "    res_a = mod_a.fit()\n",
    "    slope_estimates_a = slope_estimates_a + [res_a.params[1]]\n",
    "    bias_estimates_a = bias_estimates_a + [res_a.params[0]]\n",
    "    \n",
    "    # b. Do not control for the variable in between the path from cause to effect\n",
    "    mod_b = sm.OLS(Y, sm.add_constant(Z))\n",
    "    res_b = mod_b.fit()\n",
    "    slope_estimates_b = slope_estimates_b + [res_b.params[1]]\n",
    "    bias_estimates_b = bias_estimates_b + [res_b.params[0]]"
   ]
  },
  {
   "cell_type": "markdown",
   "id": "fed3257b",
   "metadata": {},
   "source": [
    "**a. You control for the variable in between the path from cause to effect**"
   ]
  },
  {
   "cell_type": "code",
   "execution_count": 124,
   "id": "94ae618a",
   "metadata": {},
   "outputs": [
    {
     "name": "stdout",
     "output_type": "stream",
     "text": [
      "slope_estimate: 2.105164493363438\n",
      "bias_estimate: 1.3500323120375897\n"
     ]
    }
   ],
   "source": [
    "print('slope_estimate:',np.mean(slope_estimates_a))\n",
    "print('bias_estimate:',np.mean(bias_estimates_a))"
   ]
  },
  {
   "cell_type": "code",
   "execution_count": 125,
   "id": "591e70de",
   "metadata": {},
   "outputs": [
    {
     "name": "stdout",
     "output_type": "stream",
     "text": [
      "RMSE: 0.009945024884527535 bias: 0.0051644933634379326\n"
     ]
    }
   ],
   "source": [
    "b0 = b*np.ones([1000,1])\n",
    "temp = slope_estimates_a - b0\n",
    "bias = np.mean(temp)\n",
    "rmse = np.sqrt(np.mean(temp**2))\n",
    "print('RMSE:',rmse,'bias:',bias)"
   ]
  },
  {
   "cell_type": "markdown",
   "id": "66a22b09",
   "metadata": {},
   "source": [
    "**b.You do not control for the variable in between the path from cause to effect**"
   ]
  },
  {
   "cell_type": "code",
   "execution_count": 126,
   "id": "33301b09",
   "metadata": {},
   "outputs": [
    {
     "name": "stdout",
     "output_type": "stream",
     "text": [
      "slope_estimate: 0.7440597377926256\n",
      "bias_estimate: 1.1949043119170277\n"
     ]
    }
   ],
   "source": [
    "print('slope_estimate:',np.mean(slope_estimates_b))\n",
    "print('bias_estimate:',np.mean(bias_estimates_b))"
   ]
  },
  {
   "cell_type": "code",
   "execution_count": 127,
   "id": "105d06dc",
   "metadata": {},
   "outputs": [
    {
     "name": "stdout",
     "output_type": "stream",
     "text": [
      "RMSE: 1.5398757765267572 bias: -1.3559402622073744\n"
     ]
    }
   ],
   "source": [
    "b0 = b*np.ones([1000,1])\n",
    "temp = slope_estimates_b - b0\n",
    "bias = np.mean(temp)\n",
    "rmse = np.sqrt(np.mean(temp**2))\n",
    "print('RMSE:',rmse,'bias:',bias)"
   ]
  },
  {
   "cell_type": "markdown",
   "id": "7f51d163",
   "metadata": {},
   "source": [
    "From the results, when the sample size is large, the difference between the true and estimated values is lager."
   ]
  },
  {
   "cell_type": "markdown",
   "id": "74f21818",
   "metadata": {},
   "source": [
    "## 4. Simulate a DGP where the outcome variable is overrepresented at 0.\n",
    "   \n",
    "   $Y = 0 + 0 * X + e$\n",
    "   \n",
    "   An example of a real-life situation: I want to know the relationship between height and income.\n",
    "   \n",
    "   X - height, Y - income."
   ]
  },
  {
   "cell_type": "code",
   "execution_count": 132,
   "id": "6113a34b",
   "metadata": {},
   "outputs": [
    {
     "data": {
      "image/png": "[encoded data removed]",
      "text/plain": [
       "<Figure size 432x288 with 1 Axes>"
      ]
     },
     "metadata": {},
     "output_type": "display_data"
    }
   ],
   "source": [
    "G = nx.DiGraph()\n",
    "    \n",
    "G.add_node('s1', desc='Y')\n",
    "G.add_node('s2', desc='X')\n",
    "G.add_node('s3', desc='e')\n",
    "G.add_edge('s2','s1')\n",
    "    \n",
    "pos = nx.spring_layout(G)\n",
    "nx.draw(G, pos)\n",
    "node_labels = nx.get_node_attributes(G, 'desc')\n",
    "nx.draw_networkx_labels(G, pos, labels=node_labels)\n",
    "plt.show()"
   ]
  },
  {
   "cell_type": "code",
   "execution_count": 85,
   "id": "be62b55e",
   "metadata": {},
   "outputs": [],
   "source": [
    "a = 0\n",
    "b = 0\n",
    "n = 100\n",
    "slope_estimates = []\n",
    "bias_estimates = []"
   ]
  },
  {
   "cell_type": "markdown",
   "id": "627e4e2f",
   "metadata": {},
   "source": [
    "### When the sample size is 100."
   ]
  },
  {
   "cell_type": "code",
   "execution_count": 86,
   "id": "b325f9f5",
   "metadata": {},
   "outputs": [],
   "source": [
    "slope_estimates.clear()\n",
    "bias_estimates.clear()\n",
    "\n",
    "for mc_replication in range(100):\n",
    "    X = np.random.uniform(0, 1, n)\n",
    "    e = np.random.normal(0,1,n)\n",
    "    Y = a + b * X + e\n",
    "    mod = sm.OLS(Y, sm.add_constant(X))\n",
    "    res = mod.fit()\n",
    "    slope_estimates = slope_estimates + [res.params[1]]\n",
    "    bias_estimates = bias_estimates + [res.params[0]]"
   ]
  },
  {
   "cell_type": "code",
   "execution_count": 87,
   "id": "5e92f478",
   "metadata": {},
   "outputs": [
    {
     "name": "stdout",
     "output_type": "stream",
     "text": [
      "slope_estimate: 0.02022530702463229\n",
      "bias_estimate: -0.013021682994910784\n"
     ]
    }
   ],
   "source": [
    "print('slope_estimate:',np.mean(slope_estimates))\n",
    "print('bias_estimate:',np.mean(bias_estimates))"
   ]
  },
  {
   "cell_type": "code",
   "execution_count": 88,
   "id": "71796c34",
   "metadata": {},
   "outputs": [
    {
     "name": "stdout",
     "output_type": "stream",
     "text": [
      "RMSE: 0.37809211577809737 bias: 0.020225307024632287\n"
     ]
    }
   ],
   "source": [
    "b0 = b*np.ones([100,1])\n",
    "temp = slope_estimates- b0\n",
    "bias = np.mean(temp)\n",
    "rmse = np.sqrt(np.mean(temp**2))\n",
    "print('RMSE:',rmse,'bias:',bias)"
   ]
  },
  {
   "cell_type": "markdown",
   "id": "8e3598e3",
   "metadata": {},
   "source": [
    "### When the sample size is 1000."
   ]
  },
  {
   "cell_type": "code",
   "execution_count": 89,
   "id": "0f5099fa",
   "metadata": {},
   "outputs": [],
   "source": [
    "slope_estimates.clear()\n",
    "bias_estimates.clear()\n",
    "\n",
    "for mc_replication in range(1000):\n",
    "    X = np.random.uniform(0, 1, n)\n",
    "    e = np.random.normal(0,1,n)\n",
    "    Y = a + b * X + e\n",
    "    mod = sm.OLS(Y, sm.add_constant(X))\n",
    "    res = mod.fit()\n",
    "    slope_estimates = slope_estimates + [res.params[1]]\n",
    "    bias_estimates = bias_estimates + [res.params[0]]"
   ]
  },
  {
   "cell_type": "code",
   "execution_count": 90,
   "id": "7b16b14b",
   "metadata": {},
   "outputs": [
    {
     "name": "stdout",
     "output_type": "stream",
     "text": [
      "slope_estimate: 0.012944267745481781\n",
      "bias_estimate: -0.002581095159136812\n"
     ]
    }
   ],
   "source": [
    "print('slope_estimate:',np.mean(slope_estimates))\n",
    "print('bias_estimate:',np.mean(bias_estimates))"
   ]
  },
  {
   "cell_type": "code",
   "execution_count": 91,
   "id": "3c55be2d",
   "metadata": {},
   "outputs": [
    {
     "name": "stdout",
     "output_type": "stream",
     "text": [
      "RMSE: 0.3462191361904342 bias: 0.012944267745481783\n"
     ]
    }
   ],
   "source": [
    "b0 = b*np.ones([1000,1])\n",
    "temp = slope_estimates - b0\n",
    "bias = np.mean(temp)\n",
    "rmse = np.sqrt(np.mean(temp**2))\n",
    "print('RMSE:',rmse,'bias:',bias)"
   ]
  },
  {
   "cell_type": "markdown",
   "id": "36ac6bac",
   "metadata": {},
   "source": [
    "From the results, when the sample size is large, the difference between the true and estimated values is small."
   ]
  }
 ],
 "metadata": {
  "kernelspec": {
   "display_name": "Python 3",
   "language": "python",
   "name": "python3"
  },
  "language_info": {
   "codemirror_mode": {
    "name": "ipython",
    "version": 3
   },
   "file_extension": ".py",
   "mimetype": "text/x-python",
   "name": "python",
   "nbconvert_exporter": "python",
   "pygments_lexer": "ipython3",
   "version": "3.6.9"
  }
 },
 "nbformat": 4,
 "nbformat_minor": 5
}
